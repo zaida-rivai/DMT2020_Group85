{
 "cells": [
  {
   "cell_type": "code",
   "execution_count": 1,
   "metadata": {},
   "outputs": [],
   "source": [
    "import pandas as pd\n",
    "import numpy as np"
   ]
  },
  {
   "cell_type": "code",
   "execution_count": 2,
   "metadata": {},
   "outputs": [],
   "source": [
    "confirmed = pd.read_csv('../Zaida/time_series_covid19_confirmed_global.csv')\n",
    "deaths = pd.read_csv('../Zaida/time_series_covid19_deaths_global.csv')\n",
    "recovered = pd.read_csv('../Zaida/time_series_covid19_recovered_global.csv')"
   ]
  },
  {
   "cell_type": "code",
   "execution_count": 3,
   "metadata": {},
   "outputs": [],
   "source": [
    "confirmed = confirmed.melt(id_vars=['Country/Region','Province/State','Lat','Long'],var_name=\"Date\",value_name=\"Confirmed\").sort_values(by=['Country/Region','Date'])\n",
    "deaths = deaths.melt(id_vars=['Country/Region','Province/State','Lat','Long'],var_name=\"Date\",value_name=\"Deaths\").sort_values(by=['Country/Region','Date'])\n",
    "recovered = recovered.melt(id_vars=['Country/Region','Province/State','Lat','Long'],var_name=\"Date\",value_name=\"Recovered\").sort_values(by=['Country/Region','Date'])"
   ]
  },
  {
   "cell_type": "code",
   "execution_count": 4,
   "metadata": {},
   "outputs": [],
   "source": [
    "df = pd.merge(confirmed,deaths,on=['Country/Region','Province/State','Lat','Long','Date'])\n",
    "df = pd.merge(df,recovered,on=['Country/Region','Province/State','Lat','Long','Date'])\n",
    "df = df[df['Province/State'].isnull()] #only take european countries from provinces"
   ]
  },
  {
   "cell_type": "code",
   "execution_count": 5,
   "metadata": {},
   "outputs": [],
   "source": [
    "extra_data_df = pd.read_csv(\"../country_info.csv\")\n",
    "extra_data_df[\"Country/Region\"] = [country_name.replace(\"'\",\"\") for country_name in extra_data_df[\"country\"]]\n",
    "extra_data_df['Province/State'] = np.nan\n",
    "extra_data_df = extra_data_df.drop(['country','Timestamp'],axis=1)\n",
    "extra_data_df['Province/State'] = extra_data_df['Province/State'].astype('object')\n",
    "combined = pd.merge(df,extra_data_df,on=['Country/Region','Province/State'])\n",
    "combined = combined.drop(['Province/State', \"Lat\",\"Long\", \"Unnamed: 0\",\"end_date\"],axis=1)\n",
    "combined.to_csv(\"combined.csv\")"
   ]
  },
  {
   "cell_type": "code",
   "execution_count": null,
   "metadata": {},
   "outputs": [],
   "source": []
  }
 ],
 "metadata": {
  "kernelspec": {
   "display_name": "Python 3",
   "language": "python",
   "name": "python3"
  },
  "language_info": {
   "codemirror_mode": {
    "name": "ipython",
    "version": 3
   },
   "file_extension": ".py",
   "mimetype": "text/x-python",
   "name": "python",
   "nbconvert_exporter": "python",
   "pygments_lexer": "ipython3",
   "version": "3.7.3"
  }
 },
 "nbformat": 4,
 "nbformat_minor": 4
}
