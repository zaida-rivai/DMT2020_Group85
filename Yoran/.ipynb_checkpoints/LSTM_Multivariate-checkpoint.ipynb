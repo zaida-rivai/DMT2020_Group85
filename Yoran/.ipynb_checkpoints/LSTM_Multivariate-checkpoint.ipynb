{
 "cells": [
  {
   "cell_type": "code",
   "execution_count": 6,
   "metadata": {},
   "outputs": [],
   "source": [
    "import pandas as pd\n",
    "import numpy as np\n",
    "import numpy\n",
    "import matplotlib.pyplot as plt\n",
    "import pandas\n",
    "import math\n",
    "import tensorflow as tf\n",
    "from tensorflow import keras\n",
    "from tensorflow.keras import layers\n",
    "from tensorflow.keras.models import Sequential, load_model\n",
    "from tensorflow.keras.layers import Dense\n",
    "from tensorflow.keras.layers import LSTM\n",
    "from sklearn.preprocessing import MinMaxScaler\n",
    "from sklearn.metrics import mean_squared_error\n",
    "from tensorflow.keras.callbacks import EarlyStopping\n",
    "from pandas import DataFrame\n",
    "from pandas import concat\n",
    "from math import sqrt\n",
    "from matplotlib import pyplot"
   ]
  },
  {
   "cell_type": "code",
   "execution_count": 7,
   "metadata": {},
   "outputs": [],
   "source": [
    "dataset = pd.read_csv('../DATASETS/NL_better/NL_floats_temporal.csv', parse_dates=['Date'], index_col=0)\n",
    "dataset['NewCases'] = dataset.diff()['Confirmed']"
   ]
  },
  {
   "cell_type": "code",
   "execution_count": 8,
   "metadata": {},
   "outputs": [],
   "source": [
    "cols = dataset.columns.tolist()\n",
    "cols = cols[-1:] + cols[:-1]\n",
    "dataset = dataset[cols].dropna()\n",
    "dataset = dataset[['NewCases','lockdown_severity','maximum_together','Temperature']]"
   ]
  },
  {
   "cell_type": "code",
   "execution_count": 9,
   "metadata": {},
   "outputs": [
    {
     "name": "stderr",
     "output_type": "stream",
     "text": [
      "/usr/local/lib/python3.7/site-packages/sklearn/preprocessing/data.py:323: DataConversionWarning: Data with input dtype float32 were all converted to float64 by MinMaxScaler.\n",
      "  return self.partial_fit(X, y)\n"
     ]
    }
   ],
   "source": [
    "# convert series to supervised learning\n",
    "def series_to_supervised(data, n_in=1, n_out=1, dropnan=True):\n",
    "\tn_vars = 1 if type(data) is list else data.shape[1]\n",
    "\tdf = DataFrame(data)\n",
    "\tcols, names = list(), list()\n",
    "\t# input sequence (t-n, ... t-1)\n",
    "\tfor i in range(n_in, 0, -1):\n",
    "\t\tcols.append(df.shift(i))\n",
    "\t\tnames += [('var%d(t-%d)' % (j+1, i)) for j in range(n_vars)]\n",
    "\t# forecast sequence (t, t+1, ... t+n)\n",
    "\tfor i in range(0, n_out):\n",
    "\t\tcols.append(df.shift(-i))\n",
    "\t\tif i == 0:\n",
    "\t\t\tnames += [('var%d(t)' % (j+1)) for j in range(n_vars)]\n",
    "\t\telse:\n",
    "\t\t\tnames += [('var%d(t+%d)' % (j+1, i)) for j in range(n_vars)]\n",
    "\t# put it all together\n",
    "\tagg = concat(cols, axis=1)\n",
    "\tagg.columns = names\n",
    "\t# drop rows with NaN values\n",
    "\tif dropnan:\n",
    "\t\tagg.dropna(inplace=True)\n",
    "\treturn agg\n",
    " \n",
    "values = dataset.values\n",
    "# ensure all data is float\n",
    "values = values.astype('float32')\n",
    "# normalize features\n",
    "scaler = MinMaxScaler(feature_range=(0, 1))\n",
    "# frame as supervised learning\n",
    "n_in = 21\n",
    "reframed = series_to_supervised(values, n_in,1)\n",
    "# drop columns we don't want to predict\n",
    "reframed.drop(reframed.columns[list(range((values.shape[1]*n_in)+1,reframed.shape[1]))], axis=1, inplace=True)\n",
    "scaled = scaler.fit_transform(reframed)"
   ]
  },
  {
   "cell_type": "code",
   "execution_count": 10,
   "metadata": {},
   "outputs": [
    {
     "name": "stdout",
     "output_type": "stream",
     "text": [
      "(77, 1, 84) (77,) (19, 1, 84) (19,)\n"
     ]
    }
   ],
   "source": [
    "values = scaled\n",
    "n_train_hours = round(reframed.shape[0]*0.8)\n",
    "train = values[:n_train_hours, :]\n",
    "test = values[n_train_hours:, :]\n",
    "# split into input and outputs\n",
    "train_X, train_y = train[:, :-1], train[:, -1]\n",
    "test_X, test_y = test[:, :-1], test[:, -1]\n",
    "# reshape input to be 3D [samples, timesteps, features]\n",
    "train_X = train_X.reshape((train_X.shape[0], 1, train_X.shape[1]))\n",
    "test_X = test_X.reshape((test_X.shape[0], 1, test_X.shape[1]))\n",
    "print(train_X.shape, train_y.shape, test_X.shape, test_y.shape)"
   ]
  },
  {
   "cell_type": "code",
   "execution_count": 11,
   "metadata": {},
   "outputs": [
    {
     "data": {
      "text/plain": [
       "array([0.38501873, 0.35580524, 0.33333333, 0.25093633, 0.14906367,\n",
       "       0.23745318, 0.17378277, 0.34082397, 0.23895131, 0.2164794 ,\n",
       "       0.1835206 , 0.12059925, 0.14681648, 0.17003745, 0.20224719,\n",
       "       0.14981273, 0.14157303, 0.09363296, 0.1093633 ])"
      ]
     },
     "execution_count": 11,
     "metadata": {},
     "output_type": "execute_result"
    }
   ],
   "source": [
    "test_y"
   ]
  },
  {
   "cell_type": "code",
   "execution_count": 12,
   "metadata": {},
   "outputs": [
    {
     "name": "stdout",
     "output_type": "stream",
     "text": [
      "Epoch 1/50\n",
      "3/3 - 0s - loss: 0.4306 - val_loss: 0.1130\n",
      "Epoch 2/50\n",
      "3/3 - 0s - loss: 0.2748 - val_loss: 0.1996\n",
      "Epoch 3/50\n",
      "3/3 - 0s - loss: 0.1748 - val_loss: 0.4289\n",
      "Epoch 4/50\n",
      "3/3 - 0s - loss: 0.1514 - val_loss: 0.5505\n",
      "Epoch 5/50\n",
      "3/3 - 0s - loss: 0.1352 - val_loss: 0.5684\n",
      "Epoch 6/50\n",
      "3/3 - 0s - loss: 0.1329 - val_loss: 0.5200\n",
      "Epoch 7/50\n",
      "3/3 - 0s - loss: 0.1306 - val_loss: 0.4484\n",
      "Epoch 8/50\n",
      "3/3 - 0s - loss: 0.1261 - val_loss: 0.3797\n",
      "Epoch 9/50\n",
      "3/3 - 0s - loss: 0.1184 - val_loss: 0.3256\n",
      "Epoch 10/50\n",
      "3/3 - 0s - loss: 0.1250 - val_loss: 0.2821\n",
      "Epoch 11/50\n",
      "3/3 - 0s - loss: 0.1263 - val_loss: 0.2514\n",
      "Epoch 12/50\n",
      "3/3 - 0s - loss: 0.1217 - val_loss: 0.2468\n",
      "Epoch 13/50\n",
      "3/3 - 0s - loss: 0.1152 - val_loss: 0.2604\n",
      "Epoch 14/50\n",
      "3/3 - 0s - loss: 0.1101 - val_loss: 0.2716\n",
      "Epoch 15/50\n",
      "3/3 - 0s - loss: 0.1019 - val_loss: 0.2726\n",
      "Epoch 16/50\n",
      "3/3 - 0s - loss: 0.1021 - val_loss: 0.2765\n",
      "Epoch 17/50\n",
      "3/3 - 0s - loss: 0.0948 - val_loss: 0.2737\n",
      "Epoch 18/50\n",
      "3/3 - 0s - loss: 0.0915 - val_loss: 0.2512\n",
      "Epoch 19/50\n",
      "3/3 - 0s - loss: 0.0866 - val_loss: 0.2159\n",
      "Epoch 20/50\n",
      "3/3 - 0s - loss: 0.0914 - val_loss: 0.1880\n",
      "Epoch 21/50\n",
      "3/3 - 0s - loss: 0.0868 - val_loss: 0.1727\n",
      "Epoch 22/50\n",
      "3/3 - 0s - loss: 0.0891 - val_loss: 0.1546\n",
      "Epoch 23/50\n",
      "3/3 - 0s - loss: 0.0853 - val_loss: 0.1438\n",
      "Epoch 24/50\n",
      "3/3 - 0s - loss: 0.0816 - val_loss: 0.1520\n",
      "Epoch 25/50\n",
      "3/3 - 0s - loss: 0.0772 - val_loss: 0.1515\n",
      "Epoch 26/50\n",
      "3/3 - 0s - loss: 0.0781 - val_loss: 0.1266\n",
      "Epoch 27/50\n",
      "3/3 - 0s - loss: 0.0721 - val_loss: 0.1021\n",
      "Epoch 28/50\n",
      "3/3 - 0s - loss: 0.0813 - val_loss: 0.1043\n",
      "Epoch 29/50\n",
      "3/3 - 0s - loss: 0.0747 - val_loss: 0.1114\n",
      "Epoch 30/50\n",
      "3/3 - 0s - loss: 0.0755 - val_loss: 0.0882\n",
      "Epoch 31/50\n",
      "3/3 - 0s - loss: 0.0716 - val_loss: 0.0741\n",
      "Epoch 32/50\n",
      "3/3 - 0s - loss: 0.0718 - val_loss: 0.0808\n",
      "Epoch 33/50\n",
      "3/3 - 0s - loss: 0.0702 - val_loss: 0.0903\n",
      "Epoch 34/50\n",
      "3/3 - 0s - loss: 0.0716 - val_loss: 0.0666\n",
      "Epoch 35/50\n",
      "3/3 - 0s - loss: 0.0664 - val_loss: 0.0548\n",
      "Epoch 36/50\n",
      "3/3 - 0s - loss: 0.0754 - val_loss: 0.0670\n",
      "Epoch 37/50\n",
      "3/3 - 0s - loss: 0.0728 - val_loss: 0.0827\n",
      "Epoch 38/50\n",
      "3/3 - 0s - loss: 0.0694 - val_loss: 0.0559\n",
      "Epoch 39/50\n",
      "3/3 - 0s - loss: 0.0661 - val_loss: 0.0490\n",
      "Epoch 40/50\n",
      "3/3 - 0s - loss: 0.0739 - val_loss: 0.0554\n",
      "Epoch 41/50\n",
      "3/3 - 0s - loss: 0.0692 - val_loss: 0.0822\n",
      "Epoch 42/50\n",
      "3/3 - 0s - loss: 0.0739 - val_loss: 0.0477\n",
      "Epoch 43/50\n",
      "3/3 - 0s - loss: 0.0685 - val_loss: 0.0561\n",
      "Epoch 44/50\n",
      "3/3 - 0s - loss: 0.0717 - val_loss: 0.0479\n",
      "Epoch 45/50\n",
      "3/3 - 0s - loss: 0.0687 - val_loss: 0.0766\n",
      "Epoch 46/50\n",
      "3/3 - 0s - loss: 0.0709 - val_loss: 0.0454\n",
      "Epoch 47/50\n",
      "3/3 - 0s - loss: 0.0644 - val_loss: 0.0594\n",
      "Epoch 48/50\n",
      "3/3 - 0s - loss: 0.0734 - val_loss: 0.0420\n",
      "Epoch 49/50\n",
      "3/3 - 0s - loss: 0.0656 - val_loss: 0.0614\n",
      "Epoch 50/50\n",
      "3/3 - 0s - loss: 0.0689 - val_loss: 0.0450\n"
     ]
    },
    {
     "data": {
      "image/png": "[encoded data removed]",
      "text/plain": [
       "<Figure size 432x288 with 1 Axes>"
      ]
     },
     "metadata": {
      "needs_background": "light"
     },
     "output_type": "display_data"
    }
   ],
   "source": [
    "#early_stopping = EarlyStopping(monitor='val_loss', patience=50, verbose=0, mode='min',restore_best_weights=True)\n",
    "model = Sequential()\n",
    "model.add(LSTM(100, input_shape=(train_X.shape[1], train_X.shape[2])))\n",
    "model.add(Dense(1))\n",
    "model.compile(loss='mae', optimizer='adam')\n",
    "# fit network\n",
    "history = model.fit(train_X, train_y, epochs=50, validation_data=(test_X, test_y), verbose=2, shuffle=False,callbacks=[])\n",
    "# plot history\n",
    "pyplot.plot(history.history['loss'], label='train')\n",
    "pyplot.plot(history.history['val_loss'], label='test')\n",
    "pyplot.legend()\n",
    "pyplot.show()"
   ]
  },
  {
   "cell_type": "code",
   "execution_count": 13,
   "metadata": {},
   "outputs": [
    {
     "data": {
      "text/plain": [
       "(array([0.3167219 , 0.35262614, 0.32361653, 0.2758935 , 0.21202432,\n",
       "        0.12878692, 0.17024897, 0.21756913, 0.2617219 , 0.24426822,\n",
       "        0.21592987, 0.14508297, 0.13918717, 0.22813348, 0.26852214,\n",
       "        0.26693708, 0.16555591, 0.14894824, 0.12349314], dtype=float32),\n",
       " array([0.38501873, 0.35580524, 0.33333333, 0.25093633, 0.14906367,\n",
       "        0.23745318, 0.17378277, 0.34082397, 0.23895131, 0.2164794 ,\n",
       "        0.1835206 , 0.12059925, 0.14681648, 0.17003745, 0.20224719,\n",
       "        0.14981273, 0.14157303, 0.09363296, 0.1093633 ]))"
      ]
     },
     "execution_count": 13,
     "metadata": {},
     "output_type": "execute_result"
    }
   ],
   "source": [
    "yhat = model.predict(test_X).reshape([test_X.shape[0]])\n",
    "yhat,test_y"
   ]
  },
  {
   "cell_type": "code",
   "execution_count": 14,
   "metadata": {},
   "outputs": [
    {
     "name": "stdout",
     "output_type": "stream",
     "text": [
      "Test RMSE: 0.058\n"
     ]
    }
   ],
   "source": [
    "yhat = model.predict(test_X)\n",
    "# calculate RMSE\n",
    "rmse = sqrt(mean_squared_error(test_y, yhat))\n",
    "print('Test RMSE: %.3f' % rmse)"
   ]
  },
  {
   "cell_type": "code",
   "execution_count": 15,
   "metadata": {
    "scrolled": true
   },
   "outputs": [
    {
     "data": {
      "image/png": "[encoded data removed]",
      "text/plain": [
       "<Figure size 432x288 with 1 Axes>"
      ]
     },
     "metadata": {
      "needs_background": "light"
     },
     "output_type": "display_data"
    }
   ],
   "source": [
    "ticks = list(dataset.index[-test_y.shape[0]:].strftime('%Y-%m-%d'))\n",
    "pyplot.plot(test_y*dataset['NewCases'].max(), label='test')\n",
    "pyplot.plot(yhat*dataset['NewCases'].max(), label='predicted')\n",
    "pyplot.xticks(range(len(ticks)),ticks,rotation=45)\n",
    "pyplot.legend()\n",
    "pyplot.ylabel('new cases')\n",
    "pyplot.show()"
   ]
  },
  {
   "cell_type": "code",
   "execution_count": 16,
   "metadata": {},
   "outputs": [
    {
     "data": {
      "text/plain": [
       "DatetimeIndex(['2020-04-30', '2020-05-01', '2020-05-02', '2020-05-03',\n",
       "               '2020-05-04', '2020-05-05', '2020-05-06', '2020-05-07',\n",
       "               '2020-05-08', '2020-05-09', '2020-05-10', '2020-05-11',\n",
       "               '2020-05-12', '2020-05-13', '2020-05-14', '2020-05-15',\n",
       "               '2020-05-16', '2020-05-17', '2020-05-18'],\n",
       "              dtype='datetime64[ns]', name='Date', freq=None)"
      ]
     },
     "execution_count": 16,
     "metadata": {},
     "output_type": "execute_result"
    }
   ],
   "source": [
    "dataset.index[-test_y.shape[0]:]"
   ]
  },
  {
   "cell_type": "code",
   "execution_count": 180,
   "metadata": {},
   "outputs": [
    {
     "data": {
      "text/plain": [
       "[0, 1, 2, 3, 4, 5, 6, 7, 8, 9, 10, 11, 12, 13, 14, 15, 16, 17, 18]"
      ]
     },
     "execution_count": 180,
     "metadata": {},
     "output_type": "execute_result"
    }
   ],
   "source": [
    "list(range(len(ticks)))"
   ]
  },
  {
   "cell_type": "code",
   "execution_count": null,
   "metadata": {},
   "outputs": [],
   "source": []
  }
 ],
 "metadata": {
  "kernelspec": {
   "display_name": "Python 3",
   "language": "python",
   "name": "python3"
  },
  "language_info": {
   "codemirror_mode": {
    "name": "ipython",
    "version": 3
   },
   "file_extension": ".py",
   "mimetype": "text/x-python",
   "name": "python",
   "nbconvert_exporter": "python",
   "pygments_lexer": "ipython3",
   "version": "3.7.7"
  }
 },
 "nbformat": 4,
 "nbformat_minor": 4
}
