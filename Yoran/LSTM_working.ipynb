{
 "cells": [
  {
   "cell_type": "code",
   "execution_count": 1,
   "metadata": {},
   "outputs": [],
   "source": [
    "import pandas as pd\n",
    "import numpy as np\n",
    "import numpy\n",
    "import matplotlib.pyplot as plt\n",
    "import pandas\n",
    "import math\n",
    "import tensorflow as tf\n",
    "from tensorflow import keras\n",
    "from tensorflow.keras import layers\n",
    "from tensorflow.keras.models import Sequential, load_model\n",
    "from tensorflow.keras.layers import Dense\n",
    "from tensorflow.keras.layers import LSTM\n",
    "from sklearn.preprocessing import MinMaxScaler\n",
    "from sklearn.metrics import mean_squared_error"
   ]
  },
  {
   "cell_type": "code",
   "execution_count": 2,
   "metadata": {},
   "outputs": [],
   "source": [
    "# fix random seed for reproducibility\n",
    "numpy.random.seed(7)"
   ]
  },
  {
   "cell_type": "code",
   "execution_count": 3,
   "metadata": {},
   "outputs": [],
   "source": [
    "#load JH data\n",
    "confirmed = pd.read_csv('../Zaida/time_series_covid19_confirmed_global.csv')\n",
    "deaths = pd.read_csv('../Zaida/time_series_covid19_deaths_global.csv')\n",
    "recovered = pd.read_csv('../Zaida/time_series_covid19_recovered_global.csv')\n",
    "\n",
    "#turn date columns into rows\n",
    "confirmed = confirmed.melt(id_vars=['Country/Region','Province/State','Lat','Long'],var_name=\"Date\",value_name=\"Confirmed\")\n",
    "deaths = deaths.melt(id_vars=['Country/Region','Province/State','Lat','Long'],var_name=\"Date\",value_name=\"Deaths\")\n",
    "recovered = recovered.melt(id_vars=['Country/Region','Province/State','Lat','Long'],var_name=\"Date\",value_name=\"Recovered\")"
   ]
  },
  {
   "cell_type": "code",
   "execution_count": 282,
   "metadata": {},
   "outputs": [],
   "source": [
    "#merge dataframes\n",
    "df = pd.merge(confirmed,deaths,on=['Country/Region','Province/State','Lat','Long','Date'])\n",
    "df = pd.merge(df,recovered,on=['Country/Region','Province/State','Lat','Long','Date'])\n",
    "#change date to datetime\n",
    "df['Date'] = pd.to_datetime(df['Date'])\n",
    "#sort df\n",
    "df = df.sort_values(by=['Country/Region','Province/State','Date'])"
   ]
  },
  {
   "cell_type": "code",
   "execution_count": 323,
   "metadata": {},
   "outputs": [
    {
     "name": "stderr",
     "output_type": "stream",
     "text": [
      "/usr/local/lib/python3.7/site-packages/ipykernel_launcher.py:2: UserWarning: Boolean Series key will be reindexed to match DataFrame index.\n",
      "  \n",
      "/usr/local/lib/python3.7/site-packages/ipykernel_launcher.py:7: UserWarning: Boolean Series key will be reindexed to match DataFrame index.\n",
      "  import sys\n"
     ]
    }
   ],
   "source": [
    "#train data Netherlands ConfirmedCases\n",
    "train = df[df['Country/Region'] == 'Netherlands'][df['Province/State'].isnull()]\n",
    "train = train.drop(['Country/Region', 'Province/State', 'Lat','Long','Date','Deaths','Recovered'],axis=1).values\n",
    "train = train.astype('float32')\n",
    "\n",
    "#test data Belgium ConfirmedCases\n",
    "test = df[df['Country/Region'] == 'Belgium'][df['Province/State'].isnull()]\n",
    "test = test.drop(['Country/Region', 'Province/State', 'Lat','Long','Date','Deaths','Recovered'],axis=1).values\n",
    "test = test.astype('float32')"
   ]
  },
  {
   "cell_type": "code",
   "execution_count": 324,
   "metadata": {},
   "outputs": [],
   "source": [
    "scaler = MinMaxScaler(feature_range=(0, 1))\n",
    "test_scaled = scaler.fit_transform(test)\n",
    "train_scaled = scaler.fit_transform(train)"
   ]
  },
  {
   "cell_type": "code",
   "execution_count": 325,
   "metadata": {},
   "outputs": [],
   "source": [
    "def create_dataset(dataset, look_back=1):\n",
    "\tdataX, dataY = [], []\n",
    "\tfor i in range(len(dataset)-look_back-1):\n",
    "\t\ta = dataset[i:(i+look_back), 0]\n",
    "\t\tdataX.append(a)\n",
    "\t\tdataY.append(dataset[i + look_back, 0])\n",
    "\treturn numpy.array(dataX), numpy.array(dataY)"
   ]
  },
  {
   "cell_type": "code",
   "execution_count": 326,
   "metadata": {},
   "outputs": [
    {
     "data": {
      "text/plain": [
       "(92, 14)"
      ]
     },
     "execution_count": 326,
     "metadata": {},
     "output_type": "execute_result"
    }
   ],
   "source": [
    "look_back = 14\n",
    "X_train, y_train = create_dataset(train_scaled, look_back)\n",
    "X_test, y_test = create_dataset(test_scaled, look_back)\n",
    "X_train.shape"
   ]
  },
  {
   "cell_type": "code",
   "execution_count": 327,
   "metadata": {},
   "outputs": [],
   "source": [
    "# reshape input to be [samples, time steps, features]\n",
    "X_train = numpy.reshape(X_train, (X_train.shape[0], 1, X_train.shape[1]))\n",
    "X_test = numpy.reshape(X_test, (X_test.shape[0], 1, X_test.shape[1]))"
   ]
  },
  {
   "cell_type": "code",
   "execution_count": 328,
   "metadata": {},
   "outputs": [
    {
     "name": "stdout",
     "output_type": "stream",
     "text": [
      "Epoch 1/100\n",
      "92/92 - 0s - loss: 0.1814\n",
      "Epoch 2/100\n",
      "92/92 - 0s - loss: 0.0598\n",
      "Epoch 3/100\n",
      "92/92 - 0s - loss: 0.0128\n",
      "Epoch 4/100\n",
      "92/92 - 0s - loss: 0.0033\n",
      "Epoch 5/100\n",
      "92/92 - 0s - loss: 0.0012\n",
      "Epoch 6/100\n",
      "92/92 - 0s - loss: 6.3963e-04\n",
      "Epoch 7/100\n",
      "92/92 - 0s - loss: 5.0165e-04\n",
      "Epoch 8/100\n",
      "92/92 - 0s - loss: 4.5226e-04\n",
      "Epoch 9/100\n",
      "92/92 - 0s - loss: 4.1776e-04\n",
      "Epoch 10/100\n",
      "92/92 - 0s - loss: 3.8448e-04\n",
      "Epoch 11/100\n",
      "92/92 - 0s - loss: 3.6897e-04\n",
      "Epoch 12/100\n",
      "92/92 - 0s - loss: 3.4410e-04\n",
      "Epoch 13/100\n",
      "92/92 - 0s - loss: 3.3274e-04\n",
      "Epoch 14/100\n",
      "92/92 - 0s - loss: 3.1710e-04\n",
      "Epoch 15/100\n",
      "92/92 - 0s - loss: 3.0425e-04\n",
      "Epoch 16/100\n",
      "92/92 - 0s - loss: 2.9740e-04\n",
      "Epoch 17/100\n",
      "92/92 - 0s - loss: 2.8683e-04\n",
      "Epoch 18/100\n",
      "92/92 - 0s - loss: 2.6638e-04\n",
      "Epoch 19/100\n",
      "92/92 - 0s - loss: 2.6009e-04\n",
      "Epoch 20/100\n",
      "92/92 - 0s - loss: 2.4288e-04\n",
      "Epoch 21/100\n",
      "92/92 - 0s - loss: 2.3449e-04\n",
      "Epoch 22/100\n",
      "92/92 - 0s - loss: 2.3724e-04\n",
      "Epoch 23/100\n",
      "92/92 - 0s - loss: 2.2058e-04\n",
      "Epoch 24/100\n",
      "92/92 - 0s - loss: 2.0338e-04\n",
      "Epoch 25/100\n",
      "92/92 - 0s - loss: 1.9942e-04\n",
      "Epoch 26/100\n",
      "92/92 - 0s - loss: 1.8914e-04\n",
      "Epoch 27/100\n",
      "92/92 - 0s - loss: 1.8514e-04\n",
      "Epoch 28/100\n",
      "92/92 - 0s - loss: 1.7090e-04\n",
      "Epoch 29/100\n",
      "92/92 - 0s - loss: 1.7246e-04\n",
      "Epoch 30/100\n",
      "92/92 - 0s - loss: 1.6633e-04\n",
      "Epoch 31/100\n",
      "92/92 - 0s - loss: 1.5689e-04\n",
      "Epoch 32/100\n",
      "92/92 - 0s - loss: 1.5348e-04\n",
      "Epoch 33/100\n",
      "92/92 - 0s - loss: 1.4713e-04\n",
      "Epoch 34/100\n",
      "92/92 - 0s - loss: 1.2745e-04\n",
      "Epoch 35/100\n",
      "92/92 - 0s - loss: 1.4738e-04\n",
      "Epoch 36/100\n",
      "92/92 - 0s - loss: 1.2292e-04\n",
      "Epoch 37/100\n",
      "92/92 - 0s - loss: 1.1960e-04\n",
      "Epoch 38/100\n",
      "92/92 - 0s - loss: 1.2133e-04\n",
      "Epoch 39/100\n",
      "92/92 - 0s - loss: 1.1491e-04\n",
      "Epoch 40/100\n",
      "92/92 - 0s - loss: 1.0803e-04\n",
      "Epoch 41/100\n",
      "92/92 - 0s - loss: 1.0429e-04\n",
      "Epoch 42/100\n",
      "92/92 - 0s - loss: 9.5835e-05\n",
      "Epoch 43/100\n",
      "92/92 - 0s - loss: 1.0472e-04\n",
      "Epoch 44/100\n",
      "92/92 - 0s - loss: 1.1206e-04\n",
      "Epoch 45/100\n",
      "92/92 - 0s - loss: 9.7241e-05\n",
      "Epoch 46/100\n",
      "92/92 - 0s - loss: 8.9568e-05\n",
      "Epoch 47/100\n",
      "92/92 - 0s - loss: 8.8978e-05\n",
      "Epoch 48/100\n",
      "92/92 - 0s - loss: 8.8584e-05\n",
      "Epoch 49/100\n",
      "92/92 - 0s - loss: 7.4465e-05\n",
      "Epoch 50/100\n",
      "92/92 - 0s - loss: 9.0841e-05\n",
      "Epoch 51/100\n",
      "92/92 - 0s - loss: 1.0690e-04\n",
      "Epoch 52/100\n",
      "92/92 - 0s - loss: 6.8371e-05\n",
      "Epoch 53/100\n",
      "92/92 - 0s - loss: 6.0816e-05\n",
      "Epoch 54/100\n",
      "92/92 - 0s - loss: 6.9940e-05\n",
      "Epoch 55/100\n",
      "92/92 - 0s - loss: 5.3117e-05\n",
      "Epoch 56/100\n",
      "92/92 - 0s - loss: 7.0105e-05\n",
      "Epoch 57/100\n",
      "92/92 - 0s - loss: 6.0389e-05\n",
      "Epoch 58/100\n",
      "92/92 - 0s - loss: 5.9768e-05\n",
      "Epoch 59/100\n",
      "92/92 - 0s - loss: 4.7141e-05\n",
      "Epoch 60/100\n",
      "92/92 - 0s - loss: 5.0485e-05\n",
      "Epoch 61/100\n",
      "92/92 - 0s - loss: 6.9726e-05\n",
      "Epoch 62/100\n",
      "92/92 - 0s - loss: 4.6132e-05\n",
      "Epoch 63/100\n",
      "92/92 - 0s - loss: 4.3902e-05\n",
      "Epoch 64/100\n",
      "92/92 - 0s - loss: 4.8782e-05\n",
      "Epoch 65/100\n",
      "92/92 - 0s - loss: 5.9036e-05\n",
      "Epoch 66/100\n",
      "92/92 - 0s - loss: 4.6692e-05\n",
      "Epoch 67/100\n",
      "92/92 - 0s - loss: 5.1020e-05\n",
      "Epoch 68/100\n",
      "92/92 - 0s - loss: 3.9314e-05\n",
      "Epoch 69/100\n",
      "92/92 - 0s - loss: 5.6583e-05\n",
      "Epoch 70/100\n",
      "92/92 - 0s - loss: 3.9668e-05\n",
      "Epoch 71/100\n",
      "92/92 - 0s - loss: 4.0068e-05\n",
      "Epoch 72/100\n",
      "92/92 - 0s - loss: 8.0477e-05\n",
      "Epoch 73/100\n",
      "92/92 - 0s - loss: 3.1091e-05\n",
      "Epoch 74/100\n",
      "92/92 - 0s - loss: 7.1189e-05\n",
      "Epoch 75/100\n",
      "92/92 - 0s - loss: 6.0409e-05\n",
      "Epoch 76/100\n",
      "92/92 - 0s - loss: 2.6378e-05\n",
      "Epoch 77/100\n",
      "92/92 - 0s - loss: 3.5911e-05\n",
      "Epoch 78/100\n",
      "92/92 - 0s - loss: 3.7692e-05\n",
      "Epoch 79/100\n",
      "92/92 - 0s - loss: 3.1424e-05\n",
      "Epoch 80/100\n",
      "92/92 - 0s - loss: 2.3311e-05\n",
      "Epoch 81/100\n",
      "92/92 - 0s - loss: 3.7789e-05\n",
      "Epoch 82/100\n",
      "92/92 - 0s - loss: 2.3710e-05\n",
      "Epoch 83/100\n",
      "92/92 - 0s - loss: 5.3627e-05\n",
      "Epoch 84/100\n",
      "92/92 - 0s - loss: 3.0331e-05\n",
      "Epoch 85/100\n",
      "92/92 - 0s - loss: 4.7594e-05\n",
      "Epoch 86/100\n",
      "92/92 - 0s - loss: 4.2665e-05\n",
      "Epoch 87/100\n",
      "92/92 - 0s - loss: 2.4552e-05\n",
      "Epoch 88/100\n",
      "92/92 - 0s - loss: 2.2031e-05\n",
      "Epoch 89/100\n",
      "92/92 - 0s - loss: 2.2949e-05\n",
      "Epoch 90/100\n",
      "92/92 - 0s - loss: 1.8411e-05\n",
      "Epoch 91/100\n",
      "92/92 - 0s - loss: 2.1975e-05\n",
      "Epoch 92/100\n",
      "92/92 - 0s - loss: 6.5566e-05\n",
      "Epoch 93/100\n",
      "92/92 - 0s - loss: 3.4918e-05\n",
      "Epoch 94/100\n",
      "92/92 - 0s - loss: 3.2217e-05\n",
      "Epoch 95/100\n",
      "92/92 - 0s - loss: 2.0206e-05\n",
      "Epoch 96/100\n",
      "92/92 - 0s - loss: 3.5117e-05\n",
      "Epoch 97/100\n",
      "92/92 - 0s - loss: 1.8525e-05\n",
      "Epoch 98/100\n",
      "92/92 - 0s - loss: 2.3647e-05\n",
      "Epoch 99/100\n",
      "92/92 - 0s - loss: 2.6817e-05\n",
      "Epoch 100/100\n",
      "92/92 - 0s - loss: 2.1286e-05\n"
     ]
    },
    {
     "data": {
      "text/plain": [
       "<tensorflow.python.keras.callbacks.History at 0x143791c50>"
      ]
     },
     "execution_count": 328,
     "metadata": {},
     "output_type": "execute_result"
    }
   ],
   "source": [
    "# create and fit the LSTM network\n",
    "model = Sequential()\n",
    "model.add(LSTM(4, input_shape=(1, look_back)))\n",
    "model.add(Dense(1))\n",
    "model.compile(loss='mean_squared_error', optimizer='adam')\n",
    "model.fit(X_train, y_train, epochs=100, batch_size=1, verbose=2)"
   ]
  },
  {
   "cell_type": "code",
   "execution_count": 329,
   "metadata": {},
   "outputs": [
    {
     "name": "stdout",
     "output_type": "stream",
     "text": [
      "Train Score: 173.27 RMSE\n",
      "Test Score: 241.24 RMSE\n"
     ]
    }
   ],
   "source": [
    "# make predictions\n",
    "trainPredict = model.predict(X_train)\n",
    "testPredict = model.predict(X_test)\n",
    "# invert predictions\n",
    "trainPredict = scaler.inverse_transform(trainPredict)\n",
    "y_train = scaler.inverse_transform([y_train])\n",
    "testPredict = scaler.inverse_transform(testPredict)\n",
    "y_test = scaler.inverse_transform([y_test])\n",
    "# calculate root mean squared error\n",
    "trainScore = math.sqrt(mean_squared_error(y_train[0], trainPredict[:,0]))\n",
    "print('Train Score: %.2f RMSE' % (trainScore))\n",
    "testScore = math.sqrt(mean_squared_error(y_test[0], testPredict[:,0]))\n",
    "print('Test Score: %.2f RMSE' % (testScore))"
   ]
  },
  {
   "cell_type": "code",
   "execution_count": 330,
   "metadata": {},
   "outputs": [
    {
     "data": {
      "image/png": "[encoded data removed]",
      "text/plain": [
       "<Figure size 432x288 with 1 Axes>"
      ]
     },
     "metadata": {
      "needs_background": "light"
     },
     "output_type": "display_data"
    }
   ],
   "source": [
    "plt.plot(scaler.inverse_transform(test))\n",
    "plt.plot(testPredict)\n",
    "plt.show()"
   ]
  },
  {
   "cell_type": "code",
   "execution_count": 331,
   "metadata": {},
   "outputs": [
    {
     "name": "stderr",
     "output_type": "stream",
     "text": [
      "/usr/local/lib/python3.7/site-packages/ipykernel_launcher.py:1: DeprecationWarning: using a non-integer array as obj in insert will result in an error in the future\n",
      "  \"\"\"Entry point for launching an IPython kernel.\n"
     ]
    },
    {
     "data": {
      "image/png": "[encoded data removed]",
      "text/plain": [
       "<Figure size 432x288 with 1 Axes>"
      ]
     },
     "metadata": {
      "needs_background": "light"
     },
     "output_type": "display_data"
    }
   ],
   "source": [
    "padded = np.insert(testPredict,np.zeros(look_back),0)\n",
    "plt.plot(test)\n",
    "plt.plot(padded)\n",
    "plt.show()"
   ]
  },
  {
   "cell_type": "code",
   "execution_count": 332,
   "metadata": {},
   "outputs": [
    {
     "name": "stderr",
     "output_type": "stream",
     "text": [
      "/usr/local/lib/python3.7/site-packages/ipykernel_launcher.py:1: DeprecationWarning: using a non-integer array as obj in insert will result in an error in the future\n",
      "  \"\"\"Entry point for launching an IPython kernel.\n"
     ]
    },
    {
     "data": {
      "image/png": "[encoded data removed]",
      "text/plain": [
       "<Figure size 432x288 with 1 Axes>"
      ]
     },
     "metadata": {
      "needs_background": "light"
     },
     "output_type": "display_data"
    }
   ],
   "source": [
    "padded = np.insert(testPredict,np.zeros(look_back),0)\n",
    "plt.plot(train)\n",
    "plt.plot(trainPredict)\n",
    "plt.show()"
   ]
  },
  {
   "cell_type": "code",
   "execution_count": 435,
   "metadata": {},
   "outputs": [
    {
     "data": {
      "image/png": "[encoded data removed]",
      "text/plain": [
       "<Figure size 432x288 with 1 Axes>"
      ]
     },
     "metadata": {
      "needs_background": "light"
     },
     "output_type": "display_data"
    }
   ],
   "source": [
    "new_preds = []\n",
    "train_future = train\n",
    "train_future_scaled = scaler.fit_transform(train_future)\n",
    "new_input = np.array([train_future_scaled[-look_back:]])\n",
    "new_input = numpy.reshape(new_input, (new_input.shape[0], 1, new_input.shape[1]))\n",
    "for i in range(1,30):\n",
    "    \n",
    "    new_value = scaler.inverse_transform(model.predict(new_input))[-1][0]\n",
    "    train_future = np.append(train_future,[[new_value]],axis=0).astype('float32')\n",
    "    train_future_scaled = scaler.fit_transform(train_future)\n",
    "    new_preds.append(new_value)\n",
    "    #new_input = np.array([train_future_scaled[-look_back:]])\n",
    "    #new_input = numpy.reshape(new_input, (new_input.shape[0], 1, new_input.shape[1]))\n",
    "    \n",
    "plt.plot(train)\n",
    "plt.plot(train_future)\n",
    "plt.show()"
   ]
  },
  {
   "cell_type": "code",
   "execution_count": 424,
   "metadata": {},
   "outputs": [
    {
     "data": {
      "text/plain": [
       "array([[0.000000e+00],\n",
       "       [0.000000e+00],\n",
       "       [0.000000e+00],\n",
       "       [0.000000e+00],\n",
       "       [0.000000e+00],\n",
       "       [0.000000e+00],\n",
       "       [0.000000e+00],\n",
       "       [0.000000e+00],\n",
       "       [0.000000e+00],\n",
       "       [0.000000e+00],\n",
       "       [0.000000e+00],\n",
       "       [0.000000e+00],\n",
       "       [0.000000e+00],\n",
       "       [0.000000e+00],\n",
       "       [0.000000e+00],\n",
       "       [0.000000e+00],\n",
       "       [0.000000e+00],\n",
       "       [0.000000e+00],\n",
       "       [0.000000e+00],\n",
       "       [0.000000e+00],\n",
       "       [0.000000e+00],\n",
       "       [0.000000e+00],\n",
       "       [0.000000e+00],\n",
       "       [0.000000e+00],\n",
       "       [0.000000e+00],\n",
       "       [0.000000e+00],\n",
       "       [0.000000e+00],\n",
       "       [0.000000e+00],\n",
       "       [0.000000e+00],\n",
       "       [0.000000e+00],\n",
       "       [0.000000e+00],\n",
       "       [0.000000e+00],\n",
       "       [0.000000e+00],\n",
       "       [0.000000e+00],\n",
       "       [0.000000e+00],\n",
       "       [0.000000e+00],\n",
       "       [1.000000e+00],\n",
       "       [1.000000e+00],\n",
       "       [6.000000e+00],\n",
       "       [1.000000e+01],\n",
       "       [1.800000e+01],\n",
       "       [2.400000e+01],\n",
       "       [3.800000e+01],\n",
       "       [8.200000e+01],\n",
       "       [1.280000e+02],\n",
       "       [1.880000e+02],\n",
       "       [2.650000e+02],\n",
       "       [3.210000e+02],\n",
       "       [3.820000e+02],\n",
       "       [5.030000e+02],\n",
       "       [5.030000e+02],\n",
       "       [8.040000e+02],\n",
       "       [9.590000e+02],\n",
       "       [1.135000e+03],\n",
       "       [1.413000e+03],\n",
       "       [1.705000e+03],\n",
       "       [2.051000e+03],\n",
       "       [2.460000e+03],\n",
       "       [2.994000e+03],\n",
       "       [3.631000e+03],\n",
       "       [4.204000e+03],\n",
       "       [4.749000e+03],\n",
       "       [5.560000e+03],\n",
       "       [6.412000e+03],\n",
       "       [7.431000e+03],\n",
       "       [8.603000e+03],\n",
       "       [9.762000e+03],\n",
       "       [1.086600e+04],\n",
       "       [1.175000e+04],\n",
       "       [1.259500e+04],\n",
       "       [1.361400e+04],\n",
       "       [1.469700e+04],\n",
       "       [1.572300e+04],\n",
       "       [1.662700e+04],\n",
       "       [1.785100e+04],\n",
       "       [1.880300e+04],\n",
       "       [1.958000e+04],\n",
       "       [2.054900e+04],\n",
       "       [2.176200e+04],\n",
       "       [2.309700e+04],\n",
       "       [2.441300e+04],\n",
       "       [2.558700e+04],\n",
       "       [2.655100e+04],\n",
       "       [2.741900e+04],\n",
       "       [2.815300e+04],\n",
       "       [2.921400e+04],\n",
       "       [3.044900e+04],\n",
       "       [3.158900e+04],\n",
       "       [3.265500e+04],\n",
       "       [3.340500e+04],\n",
       "       [3.413400e+04],\n",
       "       [3.484200e+04],\n",
       "       [3.572900e+04],\n",
       "       [3.653500e+04],\n",
       "       [3.719000e+04],\n",
       "       [3.784500e+04],\n",
       "       [3.824500e+04],\n",
       "       [3.841600e+04],\n",
       "       [3.880200e+04],\n",
       "       [3.931600e+04],\n",
       "       [3.979100e+04],\n",
       "       [4.023600e+04],\n",
       "       [4.057100e+04],\n",
       "       [4.077000e+04],\n",
       "       [4.108700e+04],\n",
       "       [4.131900e+04],\n",
       "       [4.177400e+04],\n",
       "       [4.192464e+04],\n",
       "       [4.192464e+04],\n",
       "       [4.192464e+04],\n",
       "       [4.192464e+04],\n",
       "       [4.192464e+04],\n",
       "       [4.192464e+04],\n",
       "       [4.192464e+04]], dtype=float32)"
      ]
     },
     "execution_count": 424,
     "metadata": {},
     "output_type": "execute_result"
    }
   ],
   "source": [
    "np.append(train_future,[[new_value]],axis=0).astype('float32')"
   ]
  },
  {
   "cell_type": "code",
   "execution_count": 375,
   "metadata": {},
   "outputs": [
    {
     "data": {
      "text/plain": [
       "array([0.000000e+00, 0.000000e+00, 0.000000e+00, 0.000000e+00,\n",
       "       0.000000e+00, 0.000000e+00, 0.000000e+00, 0.000000e+00,\n",
       "       0.000000e+00, 0.000000e+00, 0.000000e+00, 0.000000e+00,\n",
       "       0.000000e+00, 0.000000e+00, 0.000000e+00, 0.000000e+00,\n",
       "       0.000000e+00, 0.000000e+00, 0.000000e+00, 0.000000e+00,\n",
       "       0.000000e+00, 0.000000e+00, 0.000000e+00, 0.000000e+00,\n",
       "       0.000000e+00, 0.000000e+00, 0.000000e+00, 0.000000e+00,\n",
       "       0.000000e+00, 0.000000e+00, 0.000000e+00, 0.000000e+00,\n",
       "       0.000000e+00, 0.000000e+00, 0.000000e+00, 0.000000e+00,\n",
       "       1.000000e+00, 1.000000e+00, 6.000000e+00, 1.000000e+01,\n",
       "       1.800000e+01, 2.400000e+01, 3.800000e+01, 8.200000e+01,\n",
       "       1.280000e+02, 1.880000e+02, 2.650000e+02, 3.210000e+02,\n",
       "       3.820000e+02, 5.030000e+02, 5.030000e+02, 8.040000e+02,\n",
       "       9.590000e+02, 1.135000e+03, 1.413000e+03, 1.705000e+03,\n",
       "       2.051000e+03, 2.460000e+03, 2.994000e+03, 3.631000e+03,\n",
       "       4.204000e+03, 4.749000e+03, 5.560000e+03, 6.412000e+03,\n",
       "       7.431000e+03, 8.603000e+03, 9.762000e+03, 1.086600e+04,\n",
       "       1.175000e+04, 1.259500e+04, 1.361400e+04, 1.469700e+04,\n",
       "       1.572300e+04, 1.662700e+04, 1.785100e+04, 1.880300e+04,\n",
       "       1.958000e+04, 2.054900e+04, 2.176200e+04, 2.309700e+04,\n",
       "       2.441300e+04, 2.558700e+04, 2.655100e+04, 2.741900e+04,\n",
       "       2.815300e+04, 2.921400e+04, 3.044900e+04, 3.158900e+04,\n",
       "       3.265500e+04, 3.340500e+04, 3.413400e+04, 3.484200e+04,\n",
       "       3.572900e+04, 3.653500e+04, 3.719000e+04, 3.784500e+04,\n",
       "       3.824500e+04, 3.841600e+04, 3.880200e+04, 3.931600e+04,\n",
       "       3.979100e+04, 4.023600e+04, 4.057100e+04, 4.077000e+04,\n",
       "       4.108700e+04, 4.131900e+04, 4.177400e+04, 4.192464e+04],\n",
       "      dtype=float32)"
      ]
     },
     "execution_count": 375,
     "metadata": {},
     "output_type": "execute_result"
    }
   ],
   "source": [
    "np.append"
   ]
  },
  {
   "cell_type": "code",
   "execution_count": 372,
   "metadata": {},
   "outputs": [
    {
     "data": {
      "text/plain": [
       "array([[[0.87458706],\n",
       "        [0.8902667 ],\n",
       "        [0.9059463 ],\n",
       "        [0.9155216 ],\n",
       "        [0.9196151 ],\n",
       "        [0.9288553 ],\n",
       "        [0.9411596 ],\n",
       "        [0.9525303 ],\n",
       "        [0.96318287],\n",
       "        [0.9712022 ],\n",
       "        [0.9759659 ],\n",
       "        [0.98355436],\n",
       "        [0.9891081 ],\n",
       "        [1.        ]]], dtype=float32)"
      ]
     },
     "execution_count": 372,
     "metadata": {},
     "output_type": "execute_result"
    }
   ],
   "source": [
    "new_input"
   ]
  },
  {
   "cell_type": "code",
   "execution_count": 373,
   "metadata": {},
   "outputs": [
    {
     "data": {
      "text/plain": [
       "array([[[0.87458706, 0.8902667 , 0.9059463 , 0.9155216 , 0.9196151 ,\n",
       "         0.9288553 , 0.9411596 , 0.9525303 , 0.96318287, 0.9712022 ,\n",
       "         0.9759659 , 0.98355436, 0.9891081 , 1.        ]]], dtype=float32)"
      ]
     },
     "execution_count": 373,
     "metadata": {},
     "output_type": "execute_result"
    }
   ],
   "source": [
    "numpy.reshape(new_input, (new_input.shape[0], 1, new_input.shape[1]))"
   ]
  },
  {
   "cell_type": "code",
   "execution_count": 378,
   "metadata": {},
   "outputs": [
    {
     "data": {
      "text/plain": [
       "array([[[0., 0., 0., 0., 0., 0., 0., 0., 0., 0., 0., 0., 0., 0., 0., 0.,\n",
       "         0., 0., 0., 0., 0., 0., 0., 0., 0., 0., 0., 0., 0., 0., 0., 0.,\n",
       "         0., 0., 0., 0., 0., 0., 0., 0., 0., 0., 0., 0., 0., 0., 0., 0.,\n",
       "         0., 0., 0., 0., 0., 0., 0., 0., 0., 0., 0., 0., 0., 0., 0., 0.,\n",
       "         0., 0., 0., 0., 0., 0., 0., 0., 0., 0., 0., 0., 0., 0., 0., 0.,\n",
       "         0., 0., 0., 0., 0., 0., 0., 0., 0., 0., 0., 0., 0., 0., 0., 0.,\n",
       "         0., 0., 0., 0., 0., 0., 0., 0., 0., 0., 0., 0.]]])"
      ]
     },
     "execution_count": 378,
     "metadata": {},
     "output_type": "execute_result"
    }
   ],
   "source": [
    "new_input"
   ]
  },
  {
   "cell_type": "code",
   "execution_count": null,
   "metadata": {},
   "outputs": [],
   "source": []
  }
 ],
 "metadata": {
  "kernelspec": {
   "display_name": "Python 3",
   "language": "python",
   "name": "python3"
  },
  "language_info": {
   "codemirror_mode": {
    "name": "ipython",
    "version": 3
   },
   "file_extension": ".py",
   "mimetype": "text/x-python",
   "name": "python",
   "nbconvert_exporter": "python",
   "pygments_lexer": "ipython3",
   "version": "3.7.7"
  }
 },
 "nbformat": 4,
 "nbformat_minor": 4
}
