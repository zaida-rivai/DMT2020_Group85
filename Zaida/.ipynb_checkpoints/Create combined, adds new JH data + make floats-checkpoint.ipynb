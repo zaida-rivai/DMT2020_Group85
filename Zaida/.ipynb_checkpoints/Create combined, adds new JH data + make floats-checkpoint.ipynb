{
 "cells": [
  {
   "cell_type": "code",
   "execution_count": 1,
   "metadata": {},
   "outputs": [],
   "source": [
    "import pandas as pd\n",
    "import numpy as np"
   ]
  },
  {
   "cell_type": "code",
   "execution_count": 2,
   "metadata": {},
   "outputs": [],
   "source": [
    "confirmed = pd.read_csv('../Zaida/time_series_covid19_confirmed_global.csv')\n",
    "deaths = pd.read_csv('../Zaida/time_series_covid19_deaths_global.csv')\n",
    "recovered = pd.read_csv('../Zaida/time_series_covid19_recovered_global.csv')"
   ]
  },
  {
   "cell_type": "code",
   "execution_count": 3,
   "metadata": {},
   "outputs": [],
   "source": [
    "confirmed = confirmed.melt(id_vars=['Country/Region','Province/State','Lat','Long'],var_name=\"Date\",value_name=\"Confirmed\").sort_values(by=['Country/Region','Date'])\n",
    "deaths = deaths.melt(id_vars=['Country/Region','Province/State','Lat','Long'],var_name=\"Date\",value_name=\"Deaths\").sort_values(by=['Country/Region','Date'])\n",
    "recovered = recovered.melt(id_vars=['Country/Region','Province/State','Lat','Long'],var_name=\"Date\",value_name=\"Recovered\").sort_values(by=['Country/Region','Date'])"
   ]
  },
  {
   "cell_type": "code",
   "execution_count": 4,
   "metadata": {},
   "outputs": [],
   "source": [
    "df = pd.merge(confirmed,deaths,on=['Country/Region','Province/State','Lat','Long','Date'])\n",
    "df = pd.merge(df,recovered,on=['Country/Region','Province/State','Lat','Long','Date'])\n",
    "df = df[df['Province/State'].isnull()] #only take european countries from provinces"
   ]
  },
  {
   "cell_type": "code",
   "execution_count": 5,
   "metadata": {},
   "outputs": [],
   "source": [
    "extra_data_df = pd.read_csv(\"../country_info.csv\")\n",
    "extra_data_df[\"Country/Region\"] = [country_name.replace(\"'\",\"\") for country_name in extra_data_df[\"country\"]]\n",
    "extra_data_df['Province/State'] = np.nan\n",
    "extra_data_df = extra_data_df.drop(['country','Timestamp'],axis=1)\n",
    "extra_data_df['Province/State'] = extra_data_df['Province/State'].astype('object')\n",
    "combined = pd.merge(df,extra_data_df,on=['Country/Region','Province/State'])\n",
    "combined = combined.drop(['Province/State', \"Lat\",\"Long\", \"Unnamed: 0\",\"end_date\"],axis=1)\n",
    "combined.to_csv(\"combined2.csv\")"
   ]
  },
  {
   "cell_type": "markdown",
   "metadata": {},
   "source": [
    "# COPY AND PASTE NEW NUMBERS"
   ]
  },
  {
   "cell_type": "code",
   "execution_count": null,
   "metadata": {},
   "outputs": [],
   "source": [
    "df = pd.read_csv(\"../DATASETS/NL_better/NL_temporal.csv\",delimiter=';')"
   ]
  },
  {
   "cell_type": "code",
   "execution_count": null,
   "metadata": {},
   "outputs": [],
   "source": [
    "df.Date = pd.to_datetime(df.Date)\n",
    "df = df.sort_values(by=['Date'])\n",
    "df = df.set_index(df.Date)\n",
    "df = df.drop(['Date'],axis=1)\n",
    "df.head()"
   ]
  },
  {
   "cell_type": "code",
   "execution_count": null,
   "metadata": {},
   "outputs": [],
   "source": [
    "for i in df.columns: \n",
    "    if df[i].dtype == object:\n",
    "        print(i)"
   ]
  },
  {
   "cell_type": "code",
   "execution_count": null,
   "metadata": {},
   "outputs": [],
   "source": [
    "# label_encoder = LabelEncoder()\n",
    "# df['Country/Region'] = label_encoder.fit_transform(df['Country/Region']).astype('float64')\n",
    "# df['start_date'] = label_encoder.fit_transform(df['start_date']).astype('float64')\n",
    "# df['covid19_first_date'] = label_encoder.fit_transform(df['covid19_first_date']).astype('float64')\n",
    "# df['first_school_closure_date'] = label_encoder.fit_transform(df['first_school_closure_date']).astype('float64')\n",
    "df['Urban_pop_pct'] = df['Urban_pop_pct'].map(lambda x: x.lstrip('%').rstrip('%')).astype(float)/100"
   ]
  },
  {
   "cell_type": "code",
   "execution_count": null,
   "metadata": {},
   "outputs": [],
   "source": [
    "df = df.apply(pd.to_numeric)\n",
    "df = df.astype(float)"
   ]
  },
  {
   "cell_type": "code",
   "execution_count": null,
   "metadata": {},
   "outputs": [],
   "source": [
    "df.to_csv(\"NL_floats_temporal.csv\")"
   ]
  }
 ],
 "metadata": {
  "kernelspec": {
   "display_name": "Python 3",
   "language": "python",
   "name": "python3"
  },
  "language_info": {
   "codemirror_mode": {
    "name": "ipython",
    "version": 3
   },
   "file_extension": ".py",
   "mimetype": "text/x-python",
   "name": "python",
   "nbconvert_exporter": "python",
   "pygments_lexer": "ipython3",
   "version": "3.7.3"
  }
 },
 "nbformat": 4,
 "nbformat_minor": 4
}
