{
 "cells": [
  {
   "cell_type": "code",
   "execution_count": 2,
   "metadata": {},
   "outputs": [
    {
     "ename": "SyntaxError",
     "evalue": "unexpected EOF while parsing (<ipython-input-2-d0fa54c3a148>, line 11)",
     "output_type": "error",
     "traceback": [
      "\u001b[1;36m  File \u001b[1;32m\"<ipython-input-2-d0fa54c3a148>\"\u001b[1;36m, line \u001b[1;32m11\u001b[0m\n\u001b[1;33m    5_12: 0.94,\u001b[0m\n\u001b[1;37m               ^\u001b[0m\n\u001b[1;31mSyntaxError\u001b[0m\u001b[1;31m:\u001b[0m unexpected EOF while parsing\n"
     ]
    }
   ],
   "source": [
    "{5_14: 0.75, \n",
    "5_13 : 0.81,\n",
    "5_12: 0.94,\n",
    "5_11: 1.07, \n",
    "5_10: 1.13,\n",
    "5_09: 1.10,\n",
    "5_08: 0.83,\n",
    "5_07: 0.71,\n",
    "5_06: 0.65,\n",
    "5_05: 0.71, \n",
    "5_04: 0.76,\n",
    "5_03: 0.74,\n",
    "5_02: 0.78,\n",
    "5_01: 0.79,\n",
    "4_30: 1.94,"
   ]
  }
 ],
 "metadata": {
  "kernelspec": {
   "display_name": "Python 3",
   "language": "python",
   "name": "python3"
  },
  "language_info": {
   "codemirror_mode": {
    "name": "ipython",
    "version": 3
   },
   "file_extension": ".py",
   "mimetype": "text/x-python",
   "name": "python",
   "nbconvert_exporter": "python",
   "pygments_lexer": "ipython3",
   "version": "3.7.6"
  }
 },
 "nbformat": 4,
 "nbformat_minor": 4
}
