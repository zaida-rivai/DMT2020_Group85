{
 "cells": [
  {
   "cell_type": "markdown",
   "metadata": {},
   "source": [
    "# Import data"
   ]
  },
  {
   "cell_type": "code",
   "execution_count": 2,
   "metadata": {},
   "outputs": [],
   "source": [
    "import pandas as pd\n",
    "import numpy as np"
   ]
  },
  {
   "cell_type": "markdown",
   "metadata": {},
   "source": [
    "# Do experiments with one country"
   ]
  },
  {
   "cell_type": "code",
   "execution_count": 3,
   "metadata": {},
   "outputs": [],
   "source": [
    "df = pd.read_csv(\"sars_2003_complete_dataset_clean.csv\")\n",
    "\n",
    "China = df[df.Country == \"China\"]\n",
    "China = China.drop(\"Country\",axis=1) \n",
    "China.columns = ['Date', \"cum\", \"death\", \"rec\"]\n",
    "China['Date']= pd.to_datetime(China['Date']) \n",
    "China['Date'] = China['Date'].apply(lambda x: x.strftime('%Y-%m-%d'))\n",
    "\n",
    "# China['Date'] = China['Date'].apply(lambda x: x.strftime('%m/%d/%Y'))\n",
    "China = China.set_index('Date')\n",
    "cum = China.cum\n",
    "rec = China.rec\n",
    "death = China.death\n",
    "data=cum\n",
    "\n",
    "# China.info()"
   ]
  },
  {
   "cell_type": "markdown",
   "metadata": {},
   "source": [
    "### Data visualisation"
   ]
  },
  {
   "cell_type": "code",
   "execution_count": 8,
   "metadata": {},
   "outputs": [
    {
     "data": {
      "image/png": "[encoded data removed]",
      "text/plain": [
       "<Figure size 432x288 with 1 Axes>"
      ]
     },
     "metadata": {
      "needs_background": "light"
     },
     "output_type": "display_data"
    }
   ],
   "source": [
    "import matplotlib.pyplot as plt\n",
    "import numpy as np\n",
    "\n",
    "def plot_data(df,label,countryName=\"SARS China\"):\n",
    "    ind = np.arange(0,len(China),5)\n",
    "    indNames = [China.index[i] for i in range(len(China)) if i %5 ==0]\n",
    "\n",
    "    plt.plot(df,label=label)\n",
    "    plt.xticks(ind,indNames, rotation=45,fontsize='small');\n",
    "    plt.legend()\n",
    "    plt.title(countryName)\n",
    "#     plt.show()\n",
    "\n",
    "\n",
    "plot_data(cum,\"Cumulative\")\n",
    "plot_data(rec, \"Recovered\")\n",
    "plot_data(death, \"Death\")"
   ]
  },
  {
   "cell_type": "markdown",
   "metadata": {},
   "source": [
    "# Models"
   ]
  },
  {
   "cell_type": "markdown",
   "metadata": {},
   "source": [
    "## 1. SARIMAX"
   ]
  },
  {
   "cell_type": "code",
   "execution_count": 4,
   "metadata": {},
   "outputs": [],
   "source": [
    "%matplotlib inline\n",
    "\n",
    "import numpy as np\n",
    "import pandas as pd\n",
    "import statsmodels.api as sm\n",
    "import matplotlib.pyplot as plt"
   ]
  },
  {
   "cell_type": "code",
   "execution_count": 5,
   "metadata": {},
   "outputs": [],
   "source": [
    "#Get increasing index\n",
    "def reset_index(df):\n",
    "    index = np.arange(1,len(df)+1)\n",
    "    df = df.set_index(index)\n",
    "    return df\n",
    "\n",
    "China = reset_index(China)\n",
    "cum = China.cum\n",
    "rec = China.rec\n",
    "death = China.death"
   ]
  },
  {
   "cell_type": "code",
   "execution_count": null,
   "metadata": {},
   "outputs": [
    {
     "name": "stdout",
     "output_type": "stream",
     "text": [
      "0 rounds done\n",
      "250 rounds done\n",
      "500 rounds done\n",
      "750 rounds done\n",
      "1000 rounds done\n",
      "1250 rounds done\n",
      "1500 rounds done\n",
      "1750 rounds done\n",
      "2000 rounds done\n",
      "2250 rounds done\n",
      "2500 rounds done\n",
      "2750 rounds done\n",
      "3000 rounds done\n",
      "3250 rounds done\n",
      "3500 rounds done\n",
      "3750 rounds done\n",
      "4000 rounds done\n",
      "4250 rounds done\n",
      "4500 rounds done\n",
      "4750 rounds done\n",
      "5000 rounds done\n"
     ]
    }
   ],
   "source": [
    "datasets = [cum,rec,death] \n",
    "titles = [\"Cumulative Confirmed\", \"Recovered\", \"Deaths\"]\n",
    "\n",
    "import warnings\n",
    "warnings.filterwarnings('ignore')\n",
    "\n",
    "def model_stuff(data,n,titles):\n",
    "    for k in range(len(datasets)): \n",
    "        data = datasets[k]\n",
    "        for i in range(n):\n",
    "            if i % 250 == 0:\n",
    "                print(\"{} rounds done\".format(i))\n",
    "            mod = sm.tsa.SARIMAX(data, order=(1, 0, 0), trend='c')\n",
    "            res = mod.fit()\n",
    "            new = pd.DataFrame([pd.Series([int(res.forecast())])])\n",
    "            data = pd.concat([data,new])\n",
    "            data = reset_index(data)\n",
    "        plt.plot(data[:96],label=titles[k])\n",
    "        plt.plot(data[96:],ls='--')\n",
    "        plt.legend()\n",
    "\n",
    "n= 10000\n",
    "model_stuff(data,n,titles)"
   ]
  },
  {
   "cell_type": "markdown",
   "metadata": {},
   "source": [
    "### WIP Cross Validation with dataset"
   ]
  },
  {
   "cell_type": "code",
   "execution_count": 56,
   "metadata": {},
   "outputs": [
    {
     "name": "stdout",
     "output_type": "stream",
     "text": [
      "intercept       14.682233\n",
      "ar.L1            0.994638\n",
      "sigma2       66919.386724\n",
      "dtype: float64\n",
      "            true     forecast      error\n",
      "2003-03-18  5326  5313.121355  12.878645\n"
     ]
    }
   ],
   "source": [
    "# Monthly frequency, using a DatetimeIndex\n",
    "data = cum\n",
    "index = pd.date_range(start='2003', periods=len(data), freq='D')\n",
    "data = pd.Series(data.values,index=index)\n",
    "\n",
    "# Step 1: fit model parameters training sample\n",
    "training_obs = int(len(data) * 0.8)\n",
    "\n",
    "training_data = data[:training_obs]\n",
    "training_mod = sm.tsa.SARIMAX(\n",
    "    training_data, order=(1, 0, 0), trend='c')\n",
    "training_res = training_mod.fit()\n",
    "\n",
    "# Print the estimated parameters\n",
    "print(training_res.params)\n",
    "\n",
    "# Step 2: produce one-step-ahead forecasts\n",
    "fcast = training_res.forecast()\n",
    "\n",
    "# Step 3: compute root mean square forecasting error\n",
    "true = data.reindex(fcast.index)\n",
    "error = true - fcast\n",
    "\n",
    "# Print out the results\n",
    "print(pd.concat([true.rename('true'),\n",
    "                 fcast.rename('forecast'),\n",
    "                 error.rename('error')], axis=1))"
   ]
  },
  {
   "cell_type": "markdown",
   "metadata": {},
   "source": [
    "##### Second iteration "
   ]
  },
  {
   "cell_type": "code",
   "execution_count": 89,
   "metadata": {},
   "outputs": [
    {
     "data": {
      "text/plain": [
       "<statsmodels.tsa.statespace.sarimax.SARIMAXResultsWrapper at 0x272d2a15108>"
      ]
     },
     "execution_count": 89,
     "metadata": {},
     "output_type": "execute_result"
    }
   ],
   "source": [
    "append_res"
   ]
  },
  {
   "cell_type": "code",
   "execution_count": 57,
   "metadata": {},
   "outputs": [
    {
     "name": "stdout",
     "output_type": "stream",
     "text": [
      "            true     forecast      error\n",
      "2003-03-19  5326  5312.305271  13.694729\n"
     ]
    }
   ],
   "source": [
    "# Step 1: append a new observation to the sample and refit the parameters\n",
    "append_res = training_res.append(data[training_obs:training_obs + 1], refit=True)\n",
    "# Step 2: produce one-step-ahead forecasts\n",
    "fcast = append_res.forecast()\n",
    "\n",
    "# Step 3: compute root mean square forecasting error\n",
    "true = data.reindex(fcast.index)\n",
    "error = true - fcast\n",
    "\n",
    "# Print out the results\n",
    "print(pd.concat([true.rename('true'),\n",
    "                 fcast.rename('forecast'),\n",
    "                 error.rename('error')], axis=1))"
   ]
  },
  {
   "cell_type": "markdown",
   "metadata": {},
   "source": [
    "##### Recursive forecast evaluation"
   ]
  },
  {
   "cell_type": "code",
   "execution_count": 101,
   "metadata": {},
   "outputs": [
    {
     "name": "stdout",
     "output_type": "stream",
     "text": [
      "5326\n"
     ]
    },
    {
     "ename": "TypeError",
     "evalue": "object of type 'numpy.int64' has no len()",
     "output_type": "error",
     "traceback": [
      "\u001b[1;31m---------------------------------------------------------------------------\u001b[0m",
      "\u001b[1;31mTypeError\u001b[0m                                 Traceback (most recent call last)",
      "\u001b[1;32m<ipython-input-101-05d5d473b8ef>\u001b[0m in \u001b[0;36m<module>\u001b[1;34m\u001b[0m\n\u001b[0;32m     28\u001b[0m \u001b[1;31m#     print(\"updated_data:\",updated_data)\u001b[0m\u001b[1;33m\u001b[0m\u001b[1;33m\u001b[0m\u001b[1;33m\u001b[0m\u001b[0m\n\u001b[0;32m     29\u001b[0m \u001b[1;31m#     print(\"\\n\")\u001b[0m\u001b[1;33m\u001b[0m\u001b[1;33m\u001b[0m\u001b[1;33m\u001b[0m\u001b[0m\n\u001b[1;32m---> 30\u001b[1;33m     \u001b[0mres\u001b[0m \u001b[1;33m=\u001b[0m \u001b[0mres\u001b[0m\u001b[1;33m.\u001b[0m\u001b[0mappend\u001b[0m\u001b[1;33m(\u001b[0m\u001b[0mupdated_data\u001b[0m\u001b[1;33m,\u001b[0m \u001b[0mrefit\u001b[0m\u001b[1;33m=\u001b[0m\u001b[1;32mFalse\u001b[0m\u001b[1;33m)\u001b[0m\u001b[1;33m\u001b[0m\u001b[1;33m\u001b[0m\u001b[0m\n\u001b[0m\u001b[0;32m     31\u001b[0m \u001b[1;33m\u001b[0m\u001b[0m\n\u001b[0;32m     32\u001b[0m \u001b[1;31m#     append_res = training_res.append(data[t:t + 1], refit=True)\u001b[0m\u001b[1;33m\u001b[0m\u001b[1;33m\u001b[0m\u001b[1;33m\u001b[0m\u001b[0m\n",
      "\u001b[1;32m~\\Anaconda3\\lib\\site-packages\\statsmodels\\tsa\\statespace\\mlemodel.py\u001b[0m in \u001b[0;36mappend\u001b[1;34m(self, endog, exog, refit, fit_kwargs, **kwargs)\u001b[0m\n\u001b[0;32m   3634\u001b[0m         \"\"\"\n\u001b[0;32m   3635\u001b[0m         \u001b[0mstart\u001b[0m \u001b[1;33m=\u001b[0m \u001b[0mself\u001b[0m\u001b[1;33m.\u001b[0m\u001b[0mnobs\u001b[0m\u001b[1;33m\u001b[0m\u001b[1;33m\u001b[0m\u001b[0m\n\u001b[1;32m-> 3636\u001b[1;33m         \u001b[0mend\u001b[0m \u001b[1;33m=\u001b[0m \u001b[0mself\u001b[0m\u001b[1;33m.\u001b[0m\u001b[0mnobs\u001b[0m \u001b[1;33m+\u001b[0m \u001b[0mlen\u001b[0m\u001b[1;33m(\u001b[0m\u001b[0mendog\u001b[0m\u001b[1;33m)\u001b[0m \u001b[1;33m-\u001b[0m \u001b[1;36m1\u001b[0m\u001b[1;33m\u001b[0m\u001b[1;33m\u001b[0m\u001b[0m\n\u001b[0m\u001b[0;32m   3637\u001b[0m         \u001b[0m_\u001b[0m\u001b[1;33m,\u001b[0m \u001b[0m_\u001b[0m\u001b[1;33m,\u001b[0m \u001b[0m_\u001b[0m\u001b[1;33m,\u001b[0m \u001b[0mappend_ix\u001b[0m \u001b[1;33m=\u001b[0m \u001b[0mself\u001b[0m\u001b[1;33m.\u001b[0m\u001b[0mmodel\u001b[0m\u001b[1;33m.\u001b[0m\u001b[0m_get_prediction_index\u001b[0m\u001b[1;33m(\u001b[0m\u001b[0mstart\u001b[0m\u001b[1;33m,\u001b[0m \u001b[0mend\u001b[0m\u001b[1;33m)\u001b[0m\u001b[1;33m\u001b[0m\u001b[1;33m\u001b[0m\u001b[0m\n\u001b[0;32m   3638\u001b[0m \u001b[1;33m\u001b[0m\u001b[0m\n",
      "\u001b[1;31mTypeError\u001b[0m: object of type 'numpy.int64' has no len()"
     ]
    }
   ],
   "source": [
    "# Monthly frequency, using a DatetimeIndex\n",
    "data = cum\n",
    "index = pd.date_range(start='2003', periods=len(data), freq='D')\n",
    "data = pd.Series(data.values,index=index)\n",
    "\n",
    "# Setup forecasts\n",
    "nforecasts = 3\n",
    "forecasts = {}\n",
    "\n",
    "# Get the number of initial training observations\n",
    "nobs = len(data)\n",
    "n_init_training = int(nobs * 0.8)\n",
    "init_training_data = data[:n_init_training]\n",
    "# print(\"init_training_data\\n\",init_training_data)\n",
    "#Initialize model\n",
    "mod = sm.tsa.SARIMAX(init_training_data, order=(1, 0, 0), trend='c')\n",
    "res = mod.fit()\n",
    "\n",
    "# # Save initial forecast\n",
    "# forecasts[training_data.index[-1]] = res.forecast(steps=nforecasts)\n",
    "# print(\"======================\")\n",
    "# Step through the rest of the sample\n",
    "for t in range(n_init_training, nobs):\n",
    "    updated_data = data.iloc[t:t+1][0]\n",
    "    print(updated_data)\n",
    "#     print(updated_data)\n",
    "#     updated_data = updated_data[0]\n",
    "#     print(\"updated_data:\",updated_data)\n",
    "#     print(\"\\n\")\n",
    "    res = res.append(updated_data, refit=False)\n",
    "    \n",
    "#     append_res = training_res.append(data[t:t + 1], refit=True)\n",
    "# fcast = append_res.forecast()\n",
    "# true = data.reindex(fcast.index)\n",
    "# error = true - fcast\n",
    "\n",
    "#     # Save the new set of forecasts\n",
    "#     forecasts[updated_data.index[0]] = res.forecast(steps=nforecasts)\n",
    "\n",
    "# # Combine all forecasts into a dataframe\n",
    "# forecasts = pd.concat(forecasts, axis=1)\n",
    "\n",
    "# print(forecasts.iloc[:5, :5])"
   ]
  },
  {
   "cell_type": "markdown",
   "metadata": {},
   "source": [
    "# Visualize on plots"
   ]
  },
  {
   "cell_type": "code",
   "execution_count": null,
   "metadata": {},
   "outputs": [],
   "source": [
    "gmplot"
   ]
  }
 ],
 "metadata": {
  "kernelspec": {
   "display_name": "Python 3",
   "language": "python",
   "name": "python3"
  },
  "language_info": {
   "codemirror_mode": {
    "name": "ipython",
    "version": 3
   },
   "file_extension": ".py",
   "mimetype": "text/x-python",
   "name": "python",
   "nbconvert_exporter": "python",
   "pygments_lexer": "ipython3",
   "version": "3.7.6"
  }
 },
 "nbformat": 4,
 "nbformat_minor": 4
}
